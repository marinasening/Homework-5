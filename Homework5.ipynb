{
 "cells": [
  {
   "cell_type": "code",
   "execution_count": 3,
   "metadata": {},
   "outputs": [],
   "source": [
    "import json"
   ]
  },
  {
   "cell_type": "code",
   "execution_count": 49,
   "metadata": {
    "scrolled": true
   },
   "outputs": [
    {
     "name": "stdout",
     "output_type": "stream",
     "text": [
      "{'1840e0b9d4': 'Продукты'}\n",
      "{'1840e0b9d4': 'Продукты', '4e4f90fcfb': 'Электроника'}\n",
      "{'1840e0b9d4': 'Продукты', '4e4f90fcfb': 'Электроника', 'afea8d72fc': 'Электроника'}\n",
      "{'1840e0b9d4': 'Продукты', '4e4f90fcfb': 'Электроника', 'afea8d72fc': 'Электроника', '373a6055fe': 'Бытовая техника'}\n",
      "{'1840e0b9d4': 'Продукты', '4e4f90fcfb': 'Электроника', 'afea8d72fc': 'Электроника', '373a6055fe': 'Бытовая техника', '9b2ab046f3': 'Электроника'}\n",
      "{'1840e0b9d4': 'Продукты', '4e4f90fcfb': 'Электроника', 'afea8d72fc': 'Электроника', '373a6055fe': 'Бытовая техника', '9b2ab046f3': 'Электроника', '9f39d307c3': 'Электроника'}\n"
     ]
    }
   ],
   "source": [
    "# 1 задание:\n",
    "\n",
    "purchases = {}\n",
    "i = 0\n",
    "with open ('purchase_log.txt', encoding = 'utf-8') as f:\n",
    "    my_file = f.readlines()[1:]\n",
    "    for line in my_file:\n",
    "        line = line.strip()\n",
    "        dict_ = json.loads(line)\n",
    "        for id_category in dict_.items():\n",
    "            key = dict_['user_id']\n",
    "            value = dict_['category']\n",
    "            purchases [key] = value      \n",
    "        print(purchases)\n",
    "        i += 1\n",
    "        if i > 5:\n",
    "            break"
   ]
  },
  {
   "cell_type": "code",
   "execution_count": 62,
   "metadata": {},
   "outputs": [
    {
     "name": "stdout",
     "output_type": "stream",
     "text": [
      "['1840e0b9d4', 'other', 'Продукты']\n",
      "['4e4f90fcfb', 'context', 'Электроника']\n",
      "['afea8d72fc', 'other', 'Электроника']\n",
      "['373a6055fe', 'other', 'Бытовая техника']\n",
      "['9b2ab046f3', 'other', 'Электроника']\n",
      "['9f39d307c3', 'context', 'Электроника']\n"
     ]
    }
   ],
   "source": [
    "# 2 задание:\n",
    "\n",
    "with open ('visit_log.csv', 'r', encoding = 'utf-8') as f_read:\n",
    "    with open ('funnel.csv', 'w', encoding = 'utf-8') as g_write:\n",
    "        for id_number in f_read:\n",
    "            id_number = id_number.strip().split(',')\n",
    "            if id_number[0] in purchases.keys():\n",
    "                document = id_number\n",
    "                document.append(purchases.get(id_number[0]))\n",
    "                print(document)\n",
    "                g_write.write(str(document))"
   ]
  }
 ],
 "metadata": {
  "kernelspec": {
   "display_name": "Python 3",
   "language": "python",
   "name": "python3"
  },
  "language_info": {
   "codemirror_mode": {
    "name": "ipython",
    "version": 3
   },
   "file_extension": ".py",
   "mimetype": "text/x-python",
   "name": "python",
   "nbconvert_exporter": "python",
   "pygments_lexer": "ipython3",
   "version": "3.8.5"
  }
 },
 "nbformat": 4,
 "nbformat_minor": 4
}
